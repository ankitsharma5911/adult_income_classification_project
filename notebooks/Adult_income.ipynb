{
 "cells": [
  {
   "cell_type": "code",
   "execution_count": 52,
   "metadata": {},
   "outputs": [],
   "source": [
    "import pandas as pd\n",
    "import numpy as np\n",
    "import matplotlib.pyplot as plt\n",
    "import seaborn as sns\n",
    "import statistics\n",
    "\n",
    "import warnings\n",
    "warnings.filterwarnings(\"ignore\")"
   ]
  },
  {
   "cell_type": "code",
   "execution_count": 53,
   "metadata": {},
   "outputs": [],
   "source": [
    "df = pd.read_csv(\"data/adult_income.csv\")"
   ]
  },
  {
   "cell_type": "code",
   "execution_count": 54,
   "metadata": {},
   "outputs": [
    {
     "data": {
      "text/html": [
       "<div>\n",
       "<style scoped>\n",
       "    .dataframe tbody tr th:only-of-type {\n",
       "        vertical-align: middle;\n",
       "    }\n",
       "\n",
       "    .dataframe tbody tr th {\n",
       "        vertical-align: top;\n",
       "    }\n",
       "\n",
       "    .dataframe thead th {\n",
       "        text-align: right;\n",
       "    }\n",
       "</style>\n",
       "<table border=\"1\" class=\"dataframe\">\n",
       "  <thead>\n",
       "    <tr style=\"text-align: right;\">\n",
       "      <th></th>\n",
       "      <th>age</th>\n",
       "      <th>workclass</th>\n",
       "      <th>fnlwgt</th>\n",
       "      <th>education</th>\n",
       "      <th>educational-num</th>\n",
       "      <th>marital-status</th>\n",
       "      <th>occupation</th>\n",
       "      <th>relationship</th>\n",
       "      <th>race</th>\n",
       "      <th>gender</th>\n",
       "      <th>capital-gain</th>\n",
       "      <th>capital-loss</th>\n",
       "      <th>hours-per-week</th>\n",
       "      <th>native-country</th>\n",
       "      <th>income</th>\n",
       "    </tr>\n",
       "  </thead>\n",
       "  <tbody>\n",
       "    <tr>\n",
       "      <th>0</th>\n",
       "      <td>25</td>\n",
       "      <td>Private</td>\n",
       "      <td>226802</td>\n",
       "      <td>11th</td>\n",
       "      <td>7</td>\n",
       "      <td>Never-married</td>\n",
       "      <td>Machine-op-inspct</td>\n",
       "      <td>Own-child</td>\n",
       "      <td>Black</td>\n",
       "      <td>Male</td>\n",
       "      <td>0</td>\n",
       "      <td>0</td>\n",
       "      <td>40</td>\n",
       "      <td>United-States</td>\n",
       "      <td>&lt;=50K</td>\n",
       "    </tr>\n",
       "    <tr>\n",
       "      <th>1</th>\n",
       "      <td>38</td>\n",
       "      <td>Private</td>\n",
       "      <td>89814</td>\n",
       "      <td>HS-grad</td>\n",
       "      <td>9</td>\n",
       "      <td>Married-civ-spouse</td>\n",
       "      <td>Farming-fishing</td>\n",
       "      <td>Husband</td>\n",
       "      <td>White</td>\n",
       "      <td>Male</td>\n",
       "      <td>0</td>\n",
       "      <td>0</td>\n",
       "      <td>50</td>\n",
       "      <td>United-States</td>\n",
       "      <td>&lt;=50K</td>\n",
       "    </tr>\n",
       "    <tr>\n",
       "      <th>2</th>\n",
       "      <td>28</td>\n",
       "      <td>Local-gov</td>\n",
       "      <td>336951</td>\n",
       "      <td>Assoc-acdm</td>\n",
       "      <td>12</td>\n",
       "      <td>Married-civ-spouse</td>\n",
       "      <td>Protective-serv</td>\n",
       "      <td>Husband</td>\n",
       "      <td>White</td>\n",
       "      <td>Male</td>\n",
       "      <td>0</td>\n",
       "      <td>0</td>\n",
       "      <td>40</td>\n",
       "      <td>United-States</td>\n",
       "      <td>&gt;50K</td>\n",
       "    </tr>\n",
       "    <tr>\n",
       "      <th>3</th>\n",
       "      <td>44</td>\n",
       "      <td>Private</td>\n",
       "      <td>160323</td>\n",
       "      <td>Some-college</td>\n",
       "      <td>10</td>\n",
       "      <td>Married-civ-spouse</td>\n",
       "      <td>Machine-op-inspct</td>\n",
       "      <td>Husband</td>\n",
       "      <td>Black</td>\n",
       "      <td>Male</td>\n",
       "      <td>7688</td>\n",
       "      <td>0</td>\n",
       "      <td>40</td>\n",
       "      <td>United-States</td>\n",
       "      <td>&gt;50K</td>\n",
       "    </tr>\n",
       "    <tr>\n",
       "      <th>4</th>\n",
       "      <td>18</td>\n",
       "      <td>?</td>\n",
       "      <td>103497</td>\n",
       "      <td>Some-college</td>\n",
       "      <td>10</td>\n",
       "      <td>Never-married</td>\n",
       "      <td>?</td>\n",
       "      <td>Own-child</td>\n",
       "      <td>White</td>\n",
       "      <td>Female</td>\n",
       "      <td>0</td>\n",
       "      <td>0</td>\n",
       "      <td>30</td>\n",
       "      <td>United-States</td>\n",
       "      <td>&lt;=50K</td>\n",
       "    </tr>\n",
       "  </tbody>\n",
       "</table>\n",
       "</div>"
      ],
      "text/plain": [
       "   age  workclass  fnlwgt     education  educational-num      marital-status  \\\n",
       "0   25    Private  226802          11th                7       Never-married   \n",
       "1   38    Private   89814       HS-grad                9  Married-civ-spouse   \n",
       "2   28  Local-gov  336951    Assoc-acdm               12  Married-civ-spouse   \n",
       "3   44    Private  160323  Some-college               10  Married-civ-spouse   \n",
       "4   18          ?  103497  Some-college               10       Never-married   \n",
       "\n",
       "          occupation relationship   race  gender  capital-gain  capital-loss  \\\n",
       "0  Machine-op-inspct    Own-child  Black    Male             0             0   \n",
       "1    Farming-fishing      Husband  White    Male             0             0   \n",
       "2    Protective-serv      Husband  White    Male             0             0   \n",
       "3  Machine-op-inspct      Husband  Black    Male          7688             0   \n",
       "4                  ?    Own-child  White  Female             0             0   \n",
       "\n",
       "   hours-per-week native-country income  \n",
       "0              40  United-States  <=50K  \n",
       "1              50  United-States  <=50K  \n",
       "2              40  United-States   >50K  \n",
       "3              40  United-States   >50K  \n",
       "4              30  United-States  <=50K  "
      ]
     },
     "execution_count": 54,
     "metadata": {},
     "output_type": "execute_result"
    }
   ],
   "source": [
    "df.head()"
   ]
  },
  {
   "cell_type": "code",
   "execution_count": 55,
   "metadata": {},
   "outputs": [
    {
     "data": {
      "text/plain": [
       "(48842, 15)"
      ]
     },
     "execution_count": 55,
     "metadata": {},
     "output_type": "execute_result"
    }
   ],
   "source": [
    "df.shape"
   ]
  },
  {
   "cell_type": "code",
   "execution_count": 56,
   "metadata": {},
   "outputs": [
    {
     "data": {
      "text/plain": [
       "age                0\n",
       "workclass          0\n",
       "fnlwgt             0\n",
       "education          0\n",
       "educational-num    0\n",
       "marital-status     0\n",
       "occupation         0\n",
       "relationship       0\n",
       "race               0\n",
       "gender             0\n",
       "capital-gain       0\n",
       "capital-loss       0\n",
       "hours-per-week     0\n",
       "native-country     0\n",
       "income             0\n",
       "dtype: int64"
      ]
     },
     "execution_count": 56,
     "metadata": {},
     "output_type": "execute_result"
    }
   ],
   "source": [
    "df.isnull().sum()"
   ]
  },
  {
   "cell_type": "code",
   "execution_count": 57,
   "metadata": {},
   "outputs": [
    {
     "data": {
      "text/plain": [
       "52"
      ]
     },
     "execution_count": 57,
     "metadata": {},
     "output_type": "execute_result"
    }
   ],
   "source": [
    "df.duplicated().sum()"
   ]
  },
  {
   "cell_type": "code",
   "execution_count": 58,
   "metadata": {},
   "outputs": [],
   "source": [
    "df.drop_duplicates(inplace=True)"
   ]
  },
  {
   "cell_type": "code",
   "execution_count": 59,
   "metadata": {},
   "outputs": [
    {
     "name": "stdout",
     "output_type": "stream",
     "text": [
      "<class 'pandas.core.frame.DataFrame'>\n",
      "Index: 48790 entries, 0 to 48841\n",
      "Data columns (total 15 columns):\n",
      " #   Column           Non-Null Count  Dtype \n",
      "---  ------           --------------  ----- \n",
      " 0   age              48790 non-null  int64 \n",
      " 1   workclass        48790 non-null  object\n",
      " 2   fnlwgt           48790 non-null  int64 \n",
      " 3   education        48790 non-null  object\n",
      " 4   educational-num  48790 non-null  int64 \n",
      " 5   marital-status   48790 non-null  object\n",
      " 6   occupation       48790 non-null  object\n",
      " 7   relationship     48790 non-null  object\n",
      " 8   race             48790 non-null  object\n",
      " 9   gender           48790 non-null  object\n",
      " 10  capital-gain     48790 non-null  int64 \n",
      " 11  capital-loss     48790 non-null  int64 \n",
      " 12  hours-per-week   48790 non-null  int64 \n",
      " 13  native-country   48790 non-null  object\n",
      " 14  income           48790 non-null  object\n",
      "dtypes: int64(6), object(9)\n",
      "memory usage: 6.0+ MB\n"
     ]
    }
   ],
   "source": [
    "df.info()"
   ]
  },
  {
   "cell_type": "code",
   "execution_count": 60,
   "metadata": {},
   "outputs": [
    {
     "data": {
      "text/plain": [
       "array([25, 38, 28, 44, 18, 34, 29, 63, 24, 55, 65, 36, 26, 58, 48, 43, 20,\n",
       "       37, 40, 72, 45, 22, 23, 54, 32, 46, 56, 17, 39, 52, 21, 42, 33, 30,\n",
       "       47, 41, 19, 69, 50, 31, 59, 49, 51, 27, 57, 61, 64, 79, 73, 53, 77,\n",
       "       80, 62, 35, 68, 66, 75, 60, 67, 71, 70, 90, 81, 74, 78, 82, 83, 85,\n",
       "       76, 84, 89, 88, 87, 86], dtype=int64)"
      ]
     },
     "execution_count": 60,
     "metadata": {},
     "output_type": "execute_result"
    }
   ],
   "source": [
    "df.age.unique()"
   ]
  },
  {
   "cell_type": "code",
   "execution_count": 61,
   "metadata": {},
   "outputs": [
    {
     "data": {
      "text/plain": [
       "array(['Private', 'Local-gov', '?', 'Self-emp-not-inc', 'Federal-gov',\n",
       "       'State-gov', 'Self-emp-inc', 'Without-pay', 'Never-worked'],\n",
       "      dtype=object)"
      ]
     },
     "execution_count": 61,
     "metadata": {},
     "output_type": "execute_result"
    }
   ],
   "source": [
    "df.workclass.unique()"
   ]
  },
  {
   "cell_type": "code",
   "execution_count": 62,
   "metadata": {},
   "outputs": [
    {
     "name": "stdout",
     "output_type": "stream",
     "text": [
      "age : [25 38 28 44 18 34 29 63 24 55 65 36 26 58 48 43 20 37 40 72 45 22 23 54\n",
      " 32 46 56 17 39 52 21 42 33 30 47 41 19 69 50 31 59 49 51 27 57 61 64 79\n",
      " 73 53 77 80 62 35 68 66 75 60 67 71 70 90 81 74 78 82 83 85 76 84 89 88\n",
      " 87 86]\n",
      "workclass : ['Private' 'Local-gov' '?' 'Self-emp-not-inc' 'Federal-gov' 'State-gov'\n",
      " 'Self-emp-inc' 'Without-pay' 'Never-worked']\n",
      "fnlwgt : [226802  89814 336951 ... 129912 255835 257302]\n",
      "education : ['11th' 'HS-grad' 'Assoc-acdm' 'Some-college' '10th' 'Prof-school'\n",
      " '7th-8th' 'Bachelors' 'Masters' 'Doctorate' '5th-6th' 'Assoc-voc' '9th'\n",
      " '12th' '1st-4th' 'Preschool']\n",
      "educational-num : [ 7  9 12 10  6 15  4 13 14 16  3 11  5  8  2  1]\n",
      "marital-status : ['Never-married' 'Married-civ-spouse' 'Widowed' 'Divorced' 'Separated'\n",
      " 'Married-spouse-absent' 'Married-AF-spouse']\n",
      "occupation : ['Machine-op-inspct' 'Farming-fishing' 'Protective-serv' '?'\n",
      " 'Other-service' 'Prof-specialty' 'Craft-repair' 'Adm-clerical'\n",
      " 'Exec-managerial' 'Tech-support' 'Sales' 'Priv-house-serv'\n",
      " 'Transport-moving' 'Handlers-cleaners' 'Armed-Forces']\n",
      "relationship : ['Own-child' 'Husband' 'Not-in-family' 'Unmarried' 'Wife' 'Other-relative']\n",
      "race : ['Black' 'White' 'Asian-Pac-Islander' 'Other' 'Amer-Indian-Eskimo']\n",
      "gender : ['Male' 'Female']\n",
      "capital-gain : [    0  7688  3103  6418  7298  3908 14084  5178 15024 99999  2597  2907\n",
      "  4650  6497  1055  5013 27828  4934  4064  3674  2174 10605  3418   114\n",
      "  2580  3411  4508  4386  8614 13550  6849  2463  3137  2885  2964  1471\n",
      " 10566  2354  1424  1455  3325  4416 25236   594  2105  4787  2829   401\n",
      "  4865  1264  1506 10520  3464  2653 20051  4101  1797  2407  3471  1086\n",
      "  1848 14344  1151  2993  2290 15020  9386  2202  3818  2176  5455 11678\n",
      "  7978  7262  6514 41310  3456  7430  2414  2062 34095  1831  6723  5060\n",
      " 15831  2977  2346  3273  2329  9562  2635  4931  1731  6097   914  7896\n",
      "  5556  1409  3781  3942  2538  3887 25124  7443  5721  1173  4687  6612\n",
      "  6767  2961   991  2036  2936  2050  1111  2228 22040  3432  6360  2009\n",
      "  1639 18481  2387]\n",
      "capital-loss : [   0 1721 1876 2415 1887  625 1977 2057 1429 1590 1485 2051 2377 1672\n",
      " 1628 1902 1602 1741 2444 1408 2001 2042 1740 1825 1848 1719 3004 2179\n",
      " 1573 2205 1258 2339 1726 2258 1340 1504 2559 1668 1974 1980 1564 2547\n",
      " 2002 1669 1617  323 3175 2472 2174 1579 2129 1510 1735 2282 1870 1411\n",
      " 1911 1651 1092 1762 2457 2231 2238  653 1138 2246 2603 2392 1944 1380\n",
      " 2465 1421 3770 1594  213 2149 2824 1844 2467 2163 1816 1648 2206 2352\n",
      "  419 1539  880  810  974 4356 2489 1755 3683 2267 2080  155 3900 2201\n",
      " 2754]\n",
      "hours-per-week : [40 50 30 32 10 39 35 48 25 20 45 47  6 43 90 54 60 38 36 18 24 44 56 28\n",
      " 16 41 22 55 14 33 37  8 12 70 15 75 52 84 42 80 68 99 65  5 17 72 53 29\n",
      " 96 21 46  3  1 23 49 67 76  7  2 58 26 34  4 51 78 63 31 92 77 27 85 13\n",
      " 19 98 62 66 57 11 86 59  9 64 73 61 88 79 89 74 69 87 97 94 82 91 81 95]\n",
      "native-country : ['United-States' '?' 'Peru' 'Guatemala' 'Mexico' 'Dominican-Republic'\n",
      " 'Ireland' 'Germany' 'Philippines' 'Thailand' 'Haiti' 'El-Salvador'\n",
      " 'Puerto-Rico' 'Vietnam' 'South' 'Columbia' 'Japan' 'India' 'Cambodia'\n",
      " 'Poland' 'Laos' 'England' 'Cuba' 'Taiwan' 'Italy' 'Canada' 'Portugal'\n",
      " 'China' 'Nicaragua' 'Honduras' 'Iran' 'Scotland' 'Jamaica' 'Ecuador'\n",
      " 'Yugoslavia' 'Hungary' 'Hong' 'Greece' 'Trinadad&Tobago'\n",
      " 'Outlying-US(Guam-USVI-etc)' 'France' 'Holand-Netherlands']\n",
      "income : ['<=50K' '>50K']\n"
     ]
    }
   ],
   "source": [
    "for col in df.columns:\n",
    "    print(col,\":\",df[col].unique())"
   ]
  },
  {
   "cell_type": "code",
   "execution_count": 63,
   "metadata": {},
   "outputs": [
    {
     "data": {
      "text/plain": [
       "array(['Private', 'Local-gov', '?', 'Self-emp-not-inc', 'Federal-gov',\n",
       "       'State-gov', 'Self-emp-inc', 'Without-pay', 'Never-worked'],\n",
       "      dtype=object)"
      ]
     },
     "execution_count": 63,
     "metadata": {},
     "output_type": "execute_result"
    }
   ],
   "source": [
    "df.workclass.unique()"
   ]
  },
  {
   "cell_type": "code",
   "execution_count": 64,
   "metadata": {},
   "outputs": [
    {
     "data": {
      "text/plain": [
       "(2795, 15)"
      ]
     },
     "execution_count": 64,
     "metadata": {},
     "output_type": "execute_result"
    }
   ],
   "source": [
    "df[df.workclass == '?'].shape"
   ]
  },
  {
   "cell_type": "code",
   "execution_count": 65,
   "metadata": {},
   "outputs": [
    {
     "data": {
      "text/plain": [
       "workclass\n",
       "Private             33860\n",
       "Self-emp-not-inc     3861\n",
       "Local-gov            3136\n",
       "?                    2795\n",
       "State-gov            1981\n",
       "Self-emp-inc         1694\n",
       "Federal-gov          1432\n",
       "Without-pay            21\n",
       "Never-worked           10\n",
       "Name: count, dtype: int64"
      ]
     },
     "execution_count": 65,
     "metadata": {},
     "output_type": "execute_result"
    }
   ],
   "source": [
    "df['workclass'].value_counts()"
   ]
  },
  {
   "cell_type": "code",
   "execution_count": 66,
   "metadata": {},
   "outputs": [],
   "source": [
    "df.workclass = df['workclass'].replace(\"?\",statistics.mode(df.workclass))"
   ]
  },
  {
   "cell_type": "code",
   "execution_count": 67,
   "metadata": {},
   "outputs": [
    {
     "data": {
      "text/plain": [
       "workclass\n",
       "Private             36655\n",
       "Self-emp-not-inc     3861\n",
       "Local-gov            3136\n",
       "State-gov            1981\n",
       "Self-emp-inc         1694\n",
       "Federal-gov          1432\n",
       "Without-pay            21\n",
       "Never-worked           10\n",
       "Name: count, dtype: int64"
      ]
     },
     "execution_count": 67,
     "metadata": {},
     "output_type": "execute_result"
    }
   ],
   "source": [
    "df['workclass'].value_counts()\n",
    "# df['workclass']"
   ]
  },
  {
   "cell_type": "code",
   "execution_count": 68,
   "metadata": {},
   "outputs": [
    {
     "name": "stdout",
     "output_type": "stream",
     "text": [
      "<class 'pandas.core.frame.DataFrame'>\n",
      "Index: 48790 entries, 0 to 48841\n",
      "Data columns (total 15 columns):\n",
      " #   Column           Non-Null Count  Dtype \n",
      "---  ------           --------------  ----- \n",
      " 0   age              48790 non-null  int64 \n",
      " 1   workclass        48790 non-null  object\n",
      " 2   fnlwgt           48790 non-null  int64 \n",
      " 3   education        48790 non-null  object\n",
      " 4   educational-num  48790 non-null  int64 \n",
      " 5   marital-status   48790 non-null  object\n",
      " 6   occupation       48790 non-null  object\n",
      " 7   relationship     48790 non-null  object\n",
      " 8   race             48790 non-null  object\n",
      " 9   gender           48790 non-null  object\n",
      " 10  capital-gain     48790 non-null  int64 \n",
      " 11  capital-loss     48790 non-null  int64 \n",
      " 12  hours-per-week   48790 non-null  int64 \n",
      " 13  native-country   48790 non-null  object\n",
      " 14  income           48790 non-null  object\n",
      "dtypes: int64(6), object(9)\n",
      "memory usage: 6.0+ MB\n"
     ]
    }
   ],
   "source": [
    "df.info()"
   ]
  },
  {
   "cell_type": "code",
   "execution_count": 69,
   "metadata": {},
   "outputs": [
    {
     "data": {
      "text/plain": [
       "education\n",
       "HS-grad         15770\n",
       "Some-college    10863\n",
       "Bachelors        8013\n",
       "Masters          2656\n",
       "Assoc-voc        2060\n",
       "11th             1812\n",
       "Assoc-acdm       1601\n",
       "10th             1389\n",
       "7th-8th           954\n",
       "Prof-school       834\n",
       "9th               756\n",
       "12th              655\n",
       "Doctorate         594\n",
       "5th-6th           507\n",
       "1st-4th           245\n",
       "Preschool          81\n",
       "Name: count, dtype: int64"
      ]
     },
     "execution_count": 69,
     "metadata": {},
     "output_type": "execute_result"
    }
   ],
   "source": [
    "df['education'].value_counts()"
   ]
  },
  {
   "cell_type": "code",
   "execution_count": 70,
   "metadata": {},
   "outputs": [
    {
     "data": {
      "text/plain": [
       "array(['Never-married', 'Married-civ-spouse', 'Widowed', 'Divorced',\n",
       "       'Separated', 'Married-spouse-absent', 'Married-AF-spouse'],\n",
       "      dtype=object)"
      ]
     },
     "execution_count": 70,
     "metadata": {},
     "output_type": "execute_result"
    }
   ],
   "source": [
    "df['marital-status'].unique()"
   ]
  },
  {
   "cell_type": "code",
   "execution_count": 71,
   "metadata": {},
   "outputs": [
    {
     "data": {
      "text/plain": [
       "marital-status\n",
       "Married-civ-spouse       22366\n",
       "Never-married            16082\n",
       "Divorced                  6630\n",
       "Separated                 1530\n",
       "Widowed                   1518\n",
       "Married-spouse-absent      627\n",
       "Married-AF-spouse           37\n",
       "Name: count, dtype: int64"
      ]
     },
     "execution_count": 71,
     "metadata": {},
     "output_type": "execute_result"
    }
   ],
   "source": [
    "df['marital-status'].value_counts()"
   ]
  },
  {
   "cell_type": "code",
   "execution_count": 72,
   "metadata": {},
   "outputs": [
    {
     "data": {
      "text/plain": [
       "array(['Machine-op-inspct', 'Farming-fishing', 'Protective-serv', '?',\n",
       "       'Other-service', 'Prof-specialty', 'Craft-repair', 'Adm-clerical',\n",
       "       'Exec-managerial', 'Tech-support', 'Sales', 'Priv-house-serv',\n",
       "       'Transport-moving', 'Handlers-cleaners', 'Armed-Forces'],\n",
       "      dtype=object)"
      ]
     },
     "execution_count": 72,
     "metadata": {},
     "output_type": "execute_result"
    }
   ],
   "source": [
    "df['occupation'].unique()"
   ]
  },
  {
   "cell_type": "code",
   "execution_count": 73,
   "metadata": {},
   "outputs": [
    {
     "data": {
      "text/plain": [
       "occupation\n",
       "Prof-specialty       6165\n",
       "Craft-repair         6102\n",
       "Exec-managerial      6082\n",
       "Adm-clerical         5606\n",
       "Sales                5501\n",
       "Other-service        4919\n",
       "Machine-op-inspct    3017\n",
       "?                    2805\n",
       "Transport-moving     2355\n",
       "Handlers-cleaners    2071\n",
       "Farming-fishing      1485\n",
       "Tech-support         1445\n",
       "Protective-serv       982\n",
       "Priv-house-serv       240\n",
       "Armed-Forces           15\n",
       "Name: count, dtype: int64"
      ]
     },
     "execution_count": 73,
     "metadata": {},
     "output_type": "execute_result"
    }
   ],
   "source": [
    "df['occupation'].value_counts()"
   ]
  },
  {
   "cell_type": "code",
   "execution_count": 74,
   "metadata": {},
   "outputs": [],
   "source": [
    "df['occupation'] = df['occupation'].replace(\"?\",df['occupation'].mode()[0])"
   ]
  },
  {
   "cell_type": "code",
   "execution_count": 75,
   "metadata": {},
   "outputs": [
    {
     "data": {
      "text/plain": [
       "occupation\n",
       "Prof-specialty       8970\n",
       "Craft-repair         6102\n",
       "Exec-managerial      6082\n",
       "Adm-clerical         5606\n",
       "Sales                5501\n",
       "Other-service        4919\n",
       "Machine-op-inspct    3017\n",
       "Transport-moving     2355\n",
       "Handlers-cleaners    2071\n",
       "Farming-fishing      1485\n",
       "Tech-support         1445\n",
       "Protective-serv       982\n",
       "Priv-house-serv       240\n",
       "Armed-Forces           15\n",
       "Name: count, dtype: int64"
      ]
     },
     "execution_count": 75,
     "metadata": {},
     "output_type": "execute_result"
    }
   ],
   "source": [
    "df['occupation'].value_counts()"
   ]
  },
  {
   "cell_type": "code",
   "execution_count": 76,
   "metadata": {},
   "outputs": [
    {
     "name": "stdout",
     "output_type": "stream",
     "text": [
      "<class 'pandas.core.frame.DataFrame'>\n",
      "Index: 48790 entries, 0 to 48841\n",
      "Data columns (total 15 columns):\n",
      " #   Column           Non-Null Count  Dtype \n",
      "---  ------           --------------  ----- \n",
      " 0   age              48790 non-null  int64 \n",
      " 1   workclass        48790 non-null  object\n",
      " 2   fnlwgt           48790 non-null  int64 \n",
      " 3   education        48790 non-null  object\n",
      " 4   educational-num  48790 non-null  int64 \n",
      " 5   marital-status   48790 non-null  object\n",
      " 6   occupation       48790 non-null  object\n",
      " 7   relationship     48790 non-null  object\n",
      " 8   race             48790 non-null  object\n",
      " 9   gender           48790 non-null  object\n",
      " 10  capital-gain     48790 non-null  int64 \n",
      " 11  capital-loss     48790 non-null  int64 \n",
      " 12  hours-per-week   48790 non-null  int64 \n",
      " 13  native-country   48790 non-null  object\n",
      " 14  income           48790 non-null  object\n",
      "dtypes: int64(6), object(9)\n",
      "memory usage: 6.0+ MB\n"
     ]
    }
   ],
   "source": [
    "df.info()"
   ]
  },
  {
   "cell_type": "code",
   "execution_count": 77,
   "metadata": {},
   "outputs": [
    {
     "data": {
      "text/plain": [
       "relationship\n",
       "Husband           19703\n",
       "Not-in-family     12557\n",
       "Own-child          7569\n",
       "Unmarried          5124\n",
       "Wife               2331\n",
       "Other-relative     1506\n",
       "Name: count, dtype: int64"
      ]
     },
     "execution_count": 77,
     "metadata": {},
     "output_type": "execute_result"
    }
   ],
   "source": [
    "df[\"relationship\"].value_counts()"
   ]
  },
  {
   "cell_type": "code",
   "execution_count": 78,
   "metadata": {},
   "outputs": [
    {
     "data": {
      "text/plain": [
       "race\n",
       "White                 41714\n",
       "Black                  4683\n",
       "Asian-Pac-Islander     1517\n",
       "Amer-Indian-Eskimo      470\n",
       "Other                   406\n",
       "Name: count, dtype: int64"
      ]
     },
     "execution_count": 78,
     "metadata": {},
     "output_type": "execute_result"
    }
   ],
   "source": [
    "df[\"race\"].value_counts()"
   ]
  },
  {
   "cell_type": "code",
   "execution_count": 79,
   "metadata": {},
   "outputs": [
    {
     "data": {
      "text/plain": [
       "gender\n",
       "Male      32614\n",
       "Female    16176\n",
       "Name: count, dtype: int64"
      ]
     },
     "execution_count": 79,
     "metadata": {},
     "output_type": "execute_result"
    }
   ],
   "source": [
    "df[\"gender\"].value_counts()"
   ]
  },
  {
   "cell_type": "code",
   "execution_count": 80,
   "metadata": {},
   "outputs": [],
   "source": [
    "df[\"native-country\"] = df[\"native-country\"].replace(\"?\",df[\"native-country\"].mode()[0])"
   ]
  },
  {
   "cell_type": "code",
   "execution_count": 81,
   "metadata": {},
   "outputs": [
    {
     "name": "stdout",
     "output_type": "stream",
     "text": [
      "<class 'pandas.core.frame.DataFrame'>\n",
      "Index: 48790 entries, 0 to 48841\n",
      "Data columns (total 15 columns):\n",
      " #   Column           Non-Null Count  Dtype \n",
      "---  ------           --------------  ----- \n",
      " 0   age              48790 non-null  int64 \n",
      " 1   workclass        48790 non-null  object\n",
      " 2   fnlwgt           48790 non-null  int64 \n",
      " 3   education        48790 non-null  object\n",
      " 4   educational-num  48790 non-null  int64 \n",
      " 5   marital-status   48790 non-null  object\n",
      " 6   occupation       48790 non-null  object\n",
      " 7   relationship     48790 non-null  object\n",
      " 8   race             48790 non-null  object\n",
      " 9   gender           48790 non-null  object\n",
      " 10  capital-gain     48790 non-null  int64 \n",
      " 11  capital-loss     48790 non-null  int64 \n",
      " 12  hours-per-week   48790 non-null  int64 \n",
      " 13  native-country   48790 non-null  object\n",
      " 14  income           48790 non-null  object\n",
      "dtypes: int64(6), object(9)\n",
      "memory usage: 6.0+ MB\n"
     ]
    }
   ],
   "source": [
    "df.info()"
   ]
  },
  {
   "cell_type": "code",
   "execution_count": 82,
   "metadata": {},
   "outputs": [
    {
     "data": {
      "text/plain": [
       "income\n",
       "<=50K    37109\n",
       ">50K     11681\n",
       "Name: count, dtype: int64"
      ]
     },
     "execution_count": 82,
     "metadata": {},
     "output_type": "execute_result"
    }
   ],
   "source": [
    "df[\"income\"].value_counts()"
   ]
  },
  {
   "cell_type": "code",
   "execution_count": 83,
   "metadata": {},
   "outputs": [
    {
     "data": {
      "text/html": [
       "<div>\n",
       "<style scoped>\n",
       "    .dataframe tbody tr th:only-of-type {\n",
       "        vertical-align: middle;\n",
       "    }\n",
       "\n",
       "    .dataframe tbody tr th {\n",
       "        vertical-align: top;\n",
       "    }\n",
       "\n",
       "    .dataframe thead th {\n",
       "        text-align: right;\n",
       "    }\n",
       "</style>\n",
       "<table border=\"1\" class=\"dataframe\">\n",
       "  <thead>\n",
       "    <tr style=\"text-align: right;\">\n",
       "      <th></th>\n",
       "      <th>age</th>\n",
       "      <th>workclass</th>\n",
       "      <th>fnlwgt</th>\n",
       "      <th>education</th>\n",
       "      <th>educational-num</th>\n",
       "      <th>marital-status</th>\n",
       "      <th>occupation</th>\n",
       "      <th>relationship</th>\n",
       "      <th>race</th>\n",
       "      <th>gender</th>\n",
       "      <th>capital-gain</th>\n",
       "      <th>capital-loss</th>\n",
       "      <th>hours-per-week</th>\n",
       "      <th>native-country</th>\n",
       "      <th>income</th>\n",
       "    </tr>\n",
       "  </thead>\n",
       "  <tbody>\n",
       "    <tr>\n",
       "      <th>45654</th>\n",
       "      <td>41</td>\n",
       "      <td>Private</td>\n",
       "      <td>180181</td>\n",
       "      <td>Masters</td>\n",
       "      <td>14</td>\n",
       "      <td>Divorced</td>\n",
       "      <td>Exec-managerial</td>\n",
       "      <td>Unmarried</td>\n",
       "      <td>White</td>\n",
       "      <td>Female</td>\n",
       "      <td>0</td>\n",
       "      <td>0</td>\n",
       "      <td>40</td>\n",
       "      <td>United-States</td>\n",
       "      <td>&lt;=50K</td>\n",
       "    </tr>\n",
       "    <tr>\n",
       "      <th>25098</th>\n",
       "      <td>39</td>\n",
       "      <td>Private</td>\n",
       "      <td>120130</td>\n",
       "      <td>Some-college</td>\n",
       "      <td>10</td>\n",
       "      <td>Separated</td>\n",
       "      <td>Machine-op-inspct</td>\n",
       "      <td>Own-child</td>\n",
       "      <td>White</td>\n",
       "      <td>Male</td>\n",
       "      <td>0</td>\n",
       "      <td>0</td>\n",
       "      <td>40</td>\n",
       "      <td>United-States</td>\n",
       "      <td>&lt;=50K</td>\n",
       "    </tr>\n",
       "    <tr>\n",
       "      <th>10681</th>\n",
       "      <td>30</td>\n",
       "      <td>Private</td>\n",
       "      <td>226525</td>\n",
       "      <td>10th</td>\n",
       "      <td>6</td>\n",
       "      <td>Divorced</td>\n",
       "      <td>Transport-moving</td>\n",
       "      <td>Own-child</td>\n",
       "      <td>White</td>\n",
       "      <td>Male</td>\n",
       "      <td>0</td>\n",
       "      <td>0</td>\n",
       "      <td>40</td>\n",
       "      <td>United-States</td>\n",
       "      <td>&lt;=50K</td>\n",
       "    </tr>\n",
       "    <tr>\n",
       "      <th>36273</th>\n",
       "      <td>43</td>\n",
       "      <td>Private</td>\n",
       "      <td>184378</td>\n",
       "      <td>Bachelors</td>\n",
       "      <td>13</td>\n",
       "      <td>Married-civ-spouse</td>\n",
       "      <td>Prof-specialty</td>\n",
       "      <td>Husband</td>\n",
       "      <td>White</td>\n",
       "      <td>Male</td>\n",
       "      <td>0</td>\n",
       "      <td>0</td>\n",
       "      <td>35</td>\n",
       "      <td>United-States</td>\n",
       "      <td>&lt;=50K</td>\n",
       "    </tr>\n",
       "    <tr>\n",
       "      <th>1202</th>\n",
       "      <td>31</td>\n",
       "      <td>Private</td>\n",
       "      <td>250087</td>\n",
       "      <td>Prof-school</td>\n",
       "      <td>15</td>\n",
       "      <td>Married-civ-spouse</td>\n",
       "      <td>Prof-specialty</td>\n",
       "      <td>Husband</td>\n",
       "      <td>White</td>\n",
       "      <td>Male</td>\n",
       "      <td>0</td>\n",
       "      <td>0</td>\n",
       "      <td>50</td>\n",
       "      <td>United-States</td>\n",
       "      <td>&gt;50K</td>\n",
       "    </tr>\n",
       "  </tbody>\n",
       "</table>\n",
       "</div>"
      ],
      "text/plain": [
       "       age workclass  fnlwgt     education  educational-num  \\\n",
       "45654   41   Private  180181       Masters               14   \n",
       "25098   39   Private  120130  Some-college               10   \n",
       "10681   30   Private  226525          10th                6   \n",
       "36273   43   Private  184378     Bachelors               13   \n",
       "1202    31   Private  250087   Prof-school               15   \n",
       "\n",
       "           marital-status         occupation relationship   race  gender  \\\n",
       "45654            Divorced    Exec-managerial    Unmarried  White  Female   \n",
       "25098           Separated  Machine-op-inspct    Own-child  White    Male   \n",
       "10681            Divorced   Transport-moving    Own-child  White    Male   \n",
       "36273  Married-civ-spouse     Prof-specialty      Husband  White    Male   \n",
       "1202   Married-civ-spouse     Prof-specialty      Husband  White    Male   \n",
       "\n",
       "       capital-gain  capital-loss  hours-per-week native-country income  \n",
       "45654             0             0              40  United-States  <=50K  \n",
       "25098             0             0              40  United-States  <=50K  \n",
       "10681             0             0              40  United-States  <=50K  \n",
       "36273             0             0              35  United-States  <=50K  \n",
       "1202              0             0              50  United-States   >50K  "
      ]
     },
     "execution_count": 83,
     "metadata": {},
     "output_type": "execute_result"
    }
   ],
   "source": [
    "df.sample(5)"
   ]
  },
  {
   "cell_type": "code",
   "execution_count": 84,
   "metadata": {},
   "outputs": [],
   "source": [
    "## we are not using native country column to predict because there are so many unique values\n",
    "## column education and education_number are same we have to drop oneof them\n",
    "df = df.drop([\"native-country\",\"educational-num\"],axis = 1)"
   ]
  },
  {
   "cell_type": "code",
   "execution_count": 85,
   "metadata": {},
   "outputs": [],
   "source": [
    "# indepentent and dependent variable\n",
    "X = df.drop(\"income\",axis = 1)\n",
    "df['income'] = df['income'].map({\"<=50K\":1,\">50K\":2})\n",
    "y = df['income']\n",
    "\n",
    "\n",
    "from sklearn.model_selection import train_test_split\n",
    "X_train,X_test,y_train,y_test = train_test_split(X,y,test_size =0.3,random_state = 1)\n"
   ]
  },
  {
   "cell_type": "code",
   "execution_count": null,
   "metadata": {},
   "outputs": [],
   "source": []
  },
  {
   "cell_type": "code",
   "execution_count": 86,
   "metadata": {},
   "outputs": [],
   "source": [
    "# Segregating numerical and categorical variables\n",
    "categorical_cols = X.select_dtypes(include='object').columns\n",
    "numerical_cols = X.select_dtypes(exclude='object').columns"
   ]
  },
  {
   "cell_type": "code",
   "execution_count": 87,
   "metadata": {},
   "outputs": [
    {
     "data": {
      "text/plain": [
       "Index(['age', 'fnlwgt', 'capital-gain', 'capital-loss', 'hours-per-week'], dtype='object')"
      ]
     },
     "execution_count": 87,
     "metadata": {},
     "output_type": "execute_result"
    }
   ],
   "source": [
    "numerical_cols"
   ]
  },
  {
   "cell_type": "code",
   "execution_count": 88,
   "metadata": {},
   "outputs": [
    {
     "data": {
      "text/plain": [
       "Index(['workclass', 'education', 'marital-status', 'occupation',\n",
       "       'relationship', 'race', 'gender'],\n",
       "      dtype='object')"
      ]
     },
     "execution_count": 88,
     "metadata": {},
     "output_type": "execute_result"
    }
   ],
   "source": [
    "categorical_cols"
   ]
  },
  {
   "cell_type": "code",
   "execution_count": 89,
   "metadata": {},
   "outputs": [
    {
     "data": {
      "text/html": [
       "<div>\n",
       "<style scoped>\n",
       "    .dataframe tbody tr th:only-of-type {\n",
       "        vertical-align: middle;\n",
       "    }\n",
       "\n",
       "    .dataframe tbody tr th {\n",
       "        vertical-align: top;\n",
       "    }\n",
       "\n",
       "    .dataframe thead th {\n",
       "        text-align: right;\n",
       "    }\n",
       "</style>\n",
       "<table border=\"1\" class=\"dataframe\">\n",
       "  <thead>\n",
       "    <tr style=\"text-align: right;\">\n",
       "      <th></th>\n",
       "      <th>age</th>\n",
       "      <th>workclass</th>\n",
       "      <th>fnlwgt</th>\n",
       "      <th>education</th>\n",
       "      <th>marital-status</th>\n",
       "      <th>occupation</th>\n",
       "      <th>relationship</th>\n",
       "      <th>race</th>\n",
       "      <th>gender</th>\n",
       "      <th>capital-gain</th>\n",
       "      <th>capital-loss</th>\n",
       "      <th>hours-per-week</th>\n",
       "      <th>income</th>\n",
       "    </tr>\n",
       "  </thead>\n",
       "  <tbody>\n",
       "    <tr>\n",
       "      <th>0</th>\n",
       "      <td>25</td>\n",
       "      <td>Private</td>\n",
       "      <td>226802</td>\n",
       "      <td>11th</td>\n",
       "      <td>Never-married</td>\n",
       "      <td>Machine-op-inspct</td>\n",
       "      <td>Own-child</td>\n",
       "      <td>Black</td>\n",
       "      <td>Male</td>\n",
       "      <td>0</td>\n",
       "      <td>0</td>\n",
       "      <td>40</td>\n",
       "      <td>1</td>\n",
       "    </tr>\n",
       "    <tr>\n",
       "      <th>1</th>\n",
       "      <td>38</td>\n",
       "      <td>Private</td>\n",
       "      <td>89814</td>\n",
       "      <td>HS-grad</td>\n",
       "      <td>Married-civ-spouse</td>\n",
       "      <td>Farming-fishing</td>\n",
       "      <td>Husband</td>\n",
       "      <td>White</td>\n",
       "      <td>Male</td>\n",
       "      <td>0</td>\n",
       "      <td>0</td>\n",
       "      <td>50</td>\n",
       "      <td>1</td>\n",
       "    </tr>\n",
       "    <tr>\n",
       "      <th>2</th>\n",
       "      <td>28</td>\n",
       "      <td>Local-gov</td>\n",
       "      <td>336951</td>\n",
       "      <td>Assoc-acdm</td>\n",
       "      <td>Married-civ-spouse</td>\n",
       "      <td>Protective-serv</td>\n",
       "      <td>Husband</td>\n",
       "      <td>White</td>\n",
       "      <td>Male</td>\n",
       "      <td>0</td>\n",
       "      <td>0</td>\n",
       "      <td>40</td>\n",
       "      <td>2</td>\n",
       "    </tr>\n",
       "    <tr>\n",
       "      <th>3</th>\n",
       "      <td>44</td>\n",
       "      <td>Private</td>\n",
       "      <td>160323</td>\n",
       "      <td>Some-college</td>\n",
       "      <td>Married-civ-spouse</td>\n",
       "      <td>Machine-op-inspct</td>\n",
       "      <td>Husband</td>\n",
       "      <td>Black</td>\n",
       "      <td>Male</td>\n",
       "      <td>7688</td>\n",
       "      <td>0</td>\n",
       "      <td>40</td>\n",
       "      <td>2</td>\n",
       "    </tr>\n",
       "    <tr>\n",
       "      <th>4</th>\n",
       "      <td>18</td>\n",
       "      <td>Private</td>\n",
       "      <td>103497</td>\n",
       "      <td>Some-college</td>\n",
       "      <td>Never-married</td>\n",
       "      <td>Prof-specialty</td>\n",
       "      <td>Own-child</td>\n",
       "      <td>White</td>\n",
       "      <td>Female</td>\n",
       "      <td>0</td>\n",
       "      <td>0</td>\n",
       "      <td>30</td>\n",
       "      <td>1</td>\n",
       "    </tr>\n",
       "    <tr>\n",
       "      <th>...</th>\n",
       "      <td>...</td>\n",
       "      <td>...</td>\n",
       "      <td>...</td>\n",
       "      <td>...</td>\n",
       "      <td>...</td>\n",
       "      <td>...</td>\n",
       "      <td>...</td>\n",
       "      <td>...</td>\n",
       "      <td>...</td>\n",
       "      <td>...</td>\n",
       "      <td>...</td>\n",
       "      <td>...</td>\n",
       "      <td>...</td>\n",
       "    </tr>\n",
       "    <tr>\n",
       "      <th>48837</th>\n",
       "      <td>27</td>\n",
       "      <td>Private</td>\n",
       "      <td>257302</td>\n",
       "      <td>Assoc-acdm</td>\n",
       "      <td>Married-civ-spouse</td>\n",
       "      <td>Tech-support</td>\n",
       "      <td>Wife</td>\n",
       "      <td>White</td>\n",
       "      <td>Female</td>\n",
       "      <td>0</td>\n",
       "      <td>0</td>\n",
       "      <td>38</td>\n",
       "      <td>1</td>\n",
       "    </tr>\n",
       "    <tr>\n",
       "      <th>48838</th>\n",
       "      <td>40</td>\n",
       "      <td>Private</td>\n",
       "      <td>154374</td>\n",
       "      <td>HS-grad</td>\n",
       "      <td>Married-civ-spouse</td>\n",
       "      <td>Machine-op-inspct</td>\n",
       "      <td>Husband</td>\n",
       "      <td>White</td>\n",
       "      <td>Male</td>\n",
       "      <td>0</td>\n",
       "      <td>0</td>\n",
       "      <td>40</td>\n",
       "      <td>2</td>\n",
       "    </tr>\n",
       "    <tr>\n",
       "      <th>48839</th>\n",
       "      <td>58</td>\n",
       "      <td>Private</td>\n",
       "      <td>151910</td>\n",
       "      <td>HS-grad</td>\n",
       "      <td>Widowed</td>\n",
       "      <td>Adm-clerical</td>\n",
       "      <td>Unmarried</td>\n",
       "      <td>White</td>\n",
       "      <td>Female</td>\n",
       "      <td>0</td>\n",
       "      <td>0</td>\n",
       "      <td>40</td>\n",
       "      <td>1</td>\n",
       "    </tr>\n",
       "    <tr>\n",
       "      <th>48840</th>\n",
       "      <td>22</td>\n",
       "      <td>Private</td>\n",
       "      <td>201490</td>\n",
       "      <td>HS-grad</td>\n",
       "      <td>Never-married</td>\n",
       "      <td>Adm-clerical</td>\n",
       "      <td>Own-child</td>\n",
       "      <td>White</td>\n",
       "      <td>Male</td>\n",
       "      <td>0</td>\n",
       "      <td>0</td>\n",
       "      <td>20</td>\n",
       "      <td>1</td>\n",
       "    </tr>\n",
       "    <tr>\n",
       "      <th>48841</th>\n",
       "      <td>52</td>\n",
       "      <td>Self-emp-inc</td>\n",
       "      <td>287927</td>\n",
       "      <td>HS-grad</td>\n",
       "      <td>Married-civ-spouse</td>\n",
       "      <td>Exec-managerial</td>\n",
       "      <td>Wife</td>\n",
       "      <td>White</td>\n",
       "      <td>Female</td>\n",
       "      <td>15024</td>\n",
       "      <td>0</td>\n",
       "      <td>40</td>\n",
       "      <td>2</td>\n",
       "    </tr>\n",
       "  </tbody>\n",
       "</table>\n",
       "<p>48790 rows × 13 columns</p>\n",
       "</div>"
      ],
      "text/plain": [
       "       age     workclass  fnlwgt     education      marital-status  \\\n",
       "0       25       Private  226802          11th       Never-married   \n",
       "1       38       Private   89814       HS-grad  Married-civ-spouse   \n",
       "2       28     Local-gov  336951    Assoc-acdm  Married-civ-spouse   \n",
       "3       44       Private  160323  Some-college  Married-civ-spouse   \n",
       "4       18       Private  103497  Some-college       Never-married   \n",
       "...    ...           ...     ...           ...                 ...   \n",
       "48837   27       Private  257302    Assoc-acdm  Married-civ-spouse   \n",
       "48838   40       Private  154374       HS-grad  Married-civ-spouse   \n",
       "48839   58       Private  151910       HS-grad             Widowed   \n",
       "48840   22       Private  201490       HS-grad       Never-married   \n",
       "48841   52  Self-emp-inc  287927       HS-grad  Married-civ-spouse   \n",
       "\n",
       "              occupation relationship   race  gender  capital-gain  \\\n",
       "0      Machine-op-inspct    Own-child  Black    Male             0   \n",
       "1        Farming-fishing      Husband  White    Male             0   \n",
       "2        Protective-serv      Husband  White    Male             0   \n",
       "3      Machine-op-inspct      Husband  Black    Male          7688   \n",
       "4         Prof-specialty    Own-child  White  Female             0   \n",
       "...                  ...          ...    ...     ...           ...   \n",
       "48837       Tech-support         Wife  White  Female             0   \n",
       "48838  Machine-op-inspct      Husband  White    Male             0   \n",
       "48839       Adm-clerical    Unmarried  White  Female             0   \n",
       "48840       Adm-clerical    Own-child  White    Male             0   \n",
       "48841    Exec-managerial         Wife  White  Female         15024   \n",
       "\n",
       "       capital-loss  hours-per-week  income  \n",
       "0                 0              40       1  \n",
       "1                 0              50       1  \n",
       "2                 0              40       2  \n",
       "3                 0              40       2  \n",
       "4                 0              30       1  \n",
       "...             ...             ...     ...  \n",
       "48837             0              38       1  \n",
       "48838             0              40       2  \n",
       "48839             0              40       1  \n",
       "48840             0              20       1  \n",
       "48841             0              40       2  \n",
       "\n",
       "[48790 rows x 13 columns]"
      ]
     },
     "execution_count": 89,
     "metadata": {},
     "output_type": "execute_result"
    }
   ],
   "source": [
    "df"
   ]
  },
  {
   "cell_type": "code",
   "execution_count": 90,
   "metadata": {},
   "outputs": [],
   "source": [
    "# Define the custom ranking for each ordinal variable\n",
    "workclass = [\"Never-worked\",\"Without-pay\",\"Private\",\"Federal-gov\",\"Self-emp-inc\",\"State-gov\",\"Local-gov\",\"Self-emp-not-inc\"]\n",
    "education = [\"Preschool\",\"1st-4th\",\"5th-6th\",\"7th-8th\",\"9th\",\"10th\",\"11th\",\"12th\",\"HS-grad\",\"Some-college\",\"Assoc-voc\",\"Assoc-acdm\",\"Bachelors\",\"Masters\",\"Prof-school\",\"Doctorate\"]\n",
    "occupation = ['Machine-op-inspct', 'Farming-fishing', 'Protective-serv',\n",
    "       'Prof-specialty', 'Other-service', 'Craft-repair', 'Adm-clerical',\n",
    "       'Exec-managerial', 'Tech-support', 'Sales', 'Priv-house-serv',\n",
    "       'Transport-moving', 'Handlers-cleaners', 'Armed-Forces']\n",
    "relationship = ['Own-child', 'Husband', 'Not-in-family', 'Unmarried', 'Wife',\n",
    "       'Other-relative']\n",
    "race = ['Black', 'White', 'Asian-Pac-Islander', 'Other',\n",
    "       'Amer-Indian-Eskimo']\n",
    "gender = ['Male', 'Female']\n",
    "marital_status = ['Never-married', 'Married-civ-spouse', 'Widowed', 'Divorced',\n",
    "       'Separated', 'Married-spouse-absent', 'Married-AF-spouse']\n",
    "\n"
   ]
  },
  {
   "cell_type": "code",
   "execution_count": 91,
   "metadata": {},
   "outputs": [
    {
     "data": {
      "text/plain": [
       "Index(['workclass', 'education', 'marital-status', 'occupation',\n",
       "       'relationship', 'race', 'gender'],\n",
       "      dtype='object')"
      ]
     },
     "execution_count": 91,
     "metadata": {},
     "output_type": "execute_result"
    }
   ],
   "source": [
    "categorical_cols"
   ]
  },
  {
   "cell_type": "code",
   "execution_count": 92,
   "metadata": {},
   "outputs": [],
   "source": [
    "from sklearn.impute import SimpleImputer ## HAndling Missing Values\n",
    "from sklearn.preprocessing import StandardScaler # HAndling Feature Scaling\n",
    "from sklearn.preprocessing import OrdinalEncoder # Ordinal Encoding\n",
    "## pipelines\n",
    "from sklearn.pipeline import Pipeline\n",
    "from sklearn.compose import ColumnTransformer"
   ]
  },
  {
   "cell_type": "code",
   "execution_count": 93,
   "metadata": {},
   "outputs": [],
   "source": [
    "ordinal_cat = ['workclass','education','marital_status','occupation','relationship','race','gender']\n",
    "num_pipeline = Pipeline(\n",
    "    steps= [\n",
    "        (\"imputer\",SimpleImputer(strategy=\"median\")),\n",
    "        (\"scaler\",StandardScaler())\n",
    "    ]\n",
    ")\n",
    "\n",
    "cat_pipeline = Pipeline(\n",
    "    steps = [\n",
    "        (\"imputer\",SimpleImputer(strategy= \"most_frequent\")),\n",
    "        (\"encoding\",OrdinalEncoder()),\n",
    "        (\"scaling\",StandardScaler())\n",
    "    ]\n",
    ")"
   ]
  },
  {
   "cell_type": "code",
   "execution_count": 94,
   "metadata": {},
   "outputs": [],
   "source": [
    "preprocessor=ColumnTransformer([\n",
    "('num_pipeline',num_pipeline,numerical_cols),\n",
    "('cat_pipeline',cat_pipeline,categorical_cols)\n",
    "])"
   ]
  },
  {
   "cell_type": "code",
   "execution_count": 95,
   "metadata": {},
   "outputs": [
    {
     "data": {
      "text/plain": [
       "array([[ 1.33804409, -0.25840117, -0.1454919 , ..., -0.27689367,\n",
       "         0.39489341, -1.42126144],\n",
       "       [ 1.19205342,  0.65379889, -0.1454919 , ..., -0.90031972,\n",
       "         0.39489341,  0.70360032],\n",
       "       [-0.26785333, -0.46533598,  0.5350534 , ..., -0.90031972,\n",
       "         0.39489341,  0.70360032],\n",
       "       ...,\n",
       "       [ 2.35997882, -0.39451719, -0.1454919 , ..., -0.27689367,\n",
       "         0.39489341, -1.42126144],\n",
       "       [-1.50877406,  1.95644   , -0.1454919 , ..., -0.27689367,\n",
       "         0.39489341, -1.42126144],\n",
       "       [ 0.90007207, -1.09155723, -0.1454919 , ..., -0.27689367,\n",
       "         0.39489341, -1.42126144]])"
      ]
     },
     "execution_count": 95,
     "metadata": {},
     "output_type": "execute_result"
    }
   ],
   "source": [
    "preprocessor.fit_transform(X_train)"
   ]
  },
  {
   "cell_type": "code",
   "execution_count": 96,
   "metadata": {},
   "outputs": [],
   "source": [
    "X_train=pd.DataFrame(preprocessor.fit_transform(X_train),columns=preprocessor.get_feature_names_out())\n",
    "X_test=pd.DataFrame(preprocessor.transform(X_test),columns=preprocessor.get_feature_names_out())"
   ]
  },
  {
   "cell_type": "code",
   "execution_count": 97,
   "metadata": {},
   "outputs": [
    {
     "data": {
      "text/html": [
       "<div>\n",
       "<style scoped>\n",
       "    .dataframe tbody tr th:only-of-type {\n",
       "        vertical-align: middle;\n",
       "    }\n",
       "\n",
       "    .dataframe tbody tr th {\n",
       "        vertical-align: top;\n",
       "    }\n",
       "\n",
       "    .dataframe thead th {\n",
       "        text-align: right;\n",
       "    }\n",
       "</style>\n",
       "<table border=\"1\" class=\"dataframe\">\n",
       "  <thead>\n",
       "    <tr style=\"text-align: right;\">\n",
       "      <th></th>\n",
       "      <th>num_pipeline__age</th>\n",
       "      <th>num_pipeline__fnlwgt</th>\n",
       "      <th>num_pipeline__capital-gain</th>\n",
       "      <th>num_pipeline__capital-loss</th>\n",
       "      <th>num_pipeline__hours-per-week</th>\n",
       "      <th>cat_pipeline__workclass</th>\n",
       "      <th>cat_pipeline__education</th>\n",
       "      <th>cat_pipeline__marital-status</th>\n",
       "      <th>cat_pipeline__occupation</th>\n",
       "      <th>cat_pipeline__relationship</th>\n",
       "      <th>cat_pipeline__race</th>\n",
       "      <th>cat_pipeline__gender</th>\n",
       "    </tr>\n",
       "  </thead>\n",
       "  <tbody>\n",
       "    <tr>\n",
       "      <th>0</th>\n",
       "      <td>1.338044</td>\n",
       "      <td>-0.258401</td>\n",
       "      <td>-0.145492</td>\n",
       "      <td>-0.217840</td>\n",
       "      <td>0.370274</td>\n",
       "      <td>-0.085028</td>\n",
       "      <td>0.187455</td>\n",
       "      <td>-1.741040</td>\n",
       "      <td>-1.546126</td>\n",
       "      <td>-0.276894</td>\n",
       "      <td>0.394893</td>\n",
       "      <td>-1.421261</td>\n",
       "    </tr>\n",
       "    <tr>\n",
       "      <th>1</th>\n",
       "      <td>1.192053</td>\n",
       "      <td>0.653799</td>\n",
       "      <td>-0.145492</td>\n",
       "      <td>4.463784</td>\n",
       "      <td>-0.033570</td>\n",
       "      <td>-1.879250</td>\n",
       "      <td>0.960383</td>\n",
       "      <td>-0.414050</td>\n",
       "      <td>0.721398</td>\n",
       "      <td>-0.900320</td>\n",
       "      <td>0.394893</td>\n",
       "      <td>0.703600</td>\n",
       "    </tr>\n",
       "    <tr>\n",
       "      <th>2</th>\n",
       "      <td>-0.267853</td>\n",
       "      <td>-0.465336</td>\n",
       "      <td>0.535053</td>\n",
       "      <td>-0.217840</td>\n",
       "      <td>-0.033570</td>\n",
       "      <td>2.606305</td>\n",
       "      <td>1.218026</td>\n",
       "      <td>-0.414050</td>\n",
       "      <td>1.477239</td>\n",
       "      <td>-0.900320</td>\n",
       "      <td>0.394893</td>\n",
       "      <td>0.703600</td>\n",
       "    </tr>\n",
       "    <tr>\n",
       "      <th>3</th>\n",
       "      <td>1.192053</td>\n",
       "      <td>-0.686265</td>\n",
       "      <td>-0.145492</td>\n",
       "      <td>-0.217840</td>\n",
       "      <td>2.389496</td>\n",
       "      <td>2.606305</td>\n",
       "      <td>-0.070187</td>\n",
       "      <td>-0.414050</td>\n",
       "      <td>0.721398</td>\n",
       "      <td>-0.900320</td>\n",
       "      <td>-3.122789</td>\n",
       "      <td>0.703600</td>\n",
       "    </tr>\n",
       "    <tr>\n",
       "      <th>4</th>\n",
       "      <td>-0.194858</td>\n",
       "      <td>1.611133</td>\n",
       "      <td>-0.145492</td>\n",
       "      <td>-0.217840</td>\n",
       "      <td>0.774119</td>\n",
       "      <td>-0.085028</td>\n",
       "      <td>-0.327830</td>\n",
       "      <td>0.912939</td>\n",
       "      <td>-0.790284</td>\n",
       "      <td>0.346532</td>\n",
       "      <td>0.394893</td>\n",
       "      <td>0.703600</td>\n",
       "    </tr>\n",
       "  </tbody>\n",
       "</table>\n",
       "</div>"
      ],
      "text/plain": [
       "   num_pipeline__age  num_pipeline__fnlwgt  num_pipeline__capital-gain  \\\n",
       "0           1.338044             -0.258401                   -0.145492   \n",
       "1           1.192053              0.653799                   -0.145492   \n",
       "2          -0.267853             -0.465336                    0.535053   \n",
       "3           1.192053             -0.686265                   -0.145492   \n",
       "4          -0.194858              1.611133                   -0.145492   \n",
       "\n",
       "   num_pipeline__capital-loss  num_pipeline__hours-per-week  \\\n",
       "0                   -0.217840                      0.370274   \n",
       "1                    4.463784                     -0.033570   \n",
       "2                   -0.217840                     -0.033570   \n",
       "3                   -0.217840                      2.389496   \n",
       "4                   -0.217840                      0.774119   \n",
       "\n",
       "   cat_pipeline__workclass  cat_pipeline__education  \\\n",
       "0                -0.085028                 0.187455   \n",
       "1                -1.879250                 0.960383   \n",
       "2                 2.606305                 1.218026   \n",
       "3                 2.606305                -0.070187   \n",
       "4                -0.085028                -0.327830   \n",
       "\n",
       "   cat_pipeline__marital-status  cat_pipeline__occupation  \\\n",
       "0                     -1.741040                 -1.546126   \n",
       "1                     -0.414050                  0.721398   \n",
       "2                     -0.414050                  1.477239   \n",
       "3                     -0.414050                  0.721398   \n",
       "4                      0.912939                 -0.790284   \n",
       "\n",
       "   cat_pipeline__relationship  cat_pipeline__race  cat_pipeline__gender  \n",
       "0                   -0.276894            0.394893             -1.421261  \n",
       "1                   -0.900320            0.394893              0.703600  \n",
       "2                   -0.900320            0.394893              0.703600  \n",
       "3                   -0.900320           -3.122789              0.703600  \n",
       "4                    0.346532            0.394893              0.703600  "
      ]
     },
     "execution_count": 97,
     "metadata": {},
     "output_type": "execute_result"
    }
   ],
   "source": [
    "X_train.head()"
   ]
  },
  {
   "cell_type": "code",
   "execution_count": 98,
   "metadata": {},
   "outputs": [
    {
     "data": {
      "text/plain": [
       "0.7981826877092301"
      ]
     },
     "execution_count": 98,
     "metadata": {},
     "output_type": "execute_result"
    }
   ],
   "source": [
    "from sklearn.linear_model import LogisticRegression\n",
    "from sklearn.naive_bayes import GaussianNB\n",
    "from sklearn.tree import DecisionTreeClassifier\n",
    "from sklearn.ensemble import RandomForestClassifier\n",
    "from sklearn.ensemble import AdaBoostClassifier\n",
    "from sklearn.metrics import accuracy_score ,classification_report,confusion_matrix\n",
    "model = GaussianNB()\n",
    "model.fit(X_train,y_train)\n",
    "model.score(X_test,y_test)"
   ]
  },
  {
   "cell_type": "code",
   "execution_count": 99,
   "metadata": {},
   "outputs": [
    {
     "data": {
      "text/plain": [
       "0.8025551684088269"
      ]
     },
     "execution_count": 99,
     "metadata": {},
     "output_type": "execute_result"
    }
   ],
   "source": [
    "model = LogisticRegression()\n",
    "model.fit(X_train,y_train)\n",
    "model.score(X_test,y_test)"
   ]
  },
  {
   "cell_type": "code",
   "execution_count": 100,
   "metadata": {},
   "outputs": [],
   "source": [
    "import numpy as np\n",
    "def evaluate_model(true, predicted):\n",
    "    acs = accuracy_score(true, predicted)\n",
    "    cmx = confusion_matrix(true, predicted)\n",
    "    crp = classification_report(true, predicted)\n",
    "   \n",
    "    return acs,cmx,crp"
   ]
  },
  {
   "cell_type": "code",
   "execution_count": 101,
   "metadata": {},
   "outputs": [
    {
     "name": "stdout",
     "output_type": "stream",
     "text": [
      "LogisticRegression\n",
      "Model Training Performance\n",
      "accuracy score: 0.8025551684088269\n",
      "confusion matrix: [[10668   482]\n",
      " [ 2408  1079]]\n",
      "classification               precision    recall  f1-score   support\n",
      "\n",
      "           1       0.82      0.96      0.88     11150\n",
      "           2       0.69      0.31      0.43      3487\n",
      "\n",
      "    accuracy                           0.80     14637\n",
      "   macro avg       0.75      0.63      0.65     14637\n",
      "weighted avg       0.79      0.80      0.77     14637\n",
      "\n",
      "===================================\n",
      "\n",
      "\n",
      "GaussianNB\n",
      "Model Training Performance\n",
      "accuracy score: 0.7981826877092301\n",
      "confusion matrix: [[10621   529]\n",
      " [ 2425  1062]]\n",
      "classification               precision    recall  f1-score   support\n",
      "\n",
      "           1       0.81      0.95      0.88     11150\n",
      "           2       0.67      0.30      0.42      3487\n",
      "\n",
      "    accuracy                           0.80     14637\n",
      "   macro avg       0.74      0.63      0.65     14637\n",
      "weighted avg       0.78      0.80      0.77     14637\n",
      "\n",
      "===================================\n",
      "\n",
      "\n",
      "DecisionTreeClassifier\n",
      "Model Training Performance\n",
      "accuracy score: 0.8090455694472911\n",
      "confusion matrix: [[9684 1466]\n",
      " [1329 2158]]\n",
      "classification               precision    recall  f1-score   support\n",
      "\n",
      "           1       0.88      0.87      0.87     11150\n",
      "           2       0.60      0.62      0.61      3487\n",
      "\n",
      "    accuracy                           0.81     14637\n",
      "   macro avg       0.74      0.74      0.74     14637\n",
      "weighted avg       0.81      0.81      0.81     14637\n",
      "\n",
      "===================================\n",
      "\n",
      "\n",
      "RandomForestClassifier\n",
      "Model Training Performance\n",
      "accuracy score: 0.8518138962902234\n",
      "confusion matrix: [[10417   733]\n",
      " [ 1436  2051]]\n",
      "classification               precision    recall  f1-score   support\n",
      "\n",
      "           1       0.88      0.93      0.91     11150\n",
      "           2       0.74      0.59      0.65      3487\n",
      "\n",
      "    accuracy                           0.85     14637\n",
      "   macro avg       0.81      0.76      0.78     14637\n",
      "weighted avg       0.84      0.85      0.85     14637\n",
      "\n",
      "===================================\n",
      "\n",
      "\n",
      "AdaBoostClassifier\n",
      "Model Training Performance\n",
      "accuracy score: 0.8579626972740315\n",
      "confusion matrix: [[10465   685]\n",
      " [ 1394  2093]]\n",
      "classification               precision    recall  f1-score   support\n",
      "\n",
      "           1       0.88      0.94      0.91     11150\n",
      "           2       0.75      0.60      0.67      3487\n",
      "\n",
      "    accuracy                           0.86     14637\n",
      "   macro avg       0.82      0.77      0.79     14637\n",
      "weighted avg       0.85      0.86      0.85     14637\n",
      "\n",
      "===================================\n",
      "\n",
      "\n"
     ]
    }
   ],
   "source": [
    "## Train multiple models\n",
    "## Model Ecaluation\n",
    "models={\n",
    "    'LogisticRegression':LogisticRegression(),\n",
    "    'GaussianNB':GaussianNB(),\n",
    "    'DecisionTreeClassifier':DecisionTreeClassifier(),\n",
    "    'RandomForestClassifier':RandomForestClassifier(),\n",
    "    'AdaBoostClassifier':AdaBoostClassifier()\n",
    "}\n",
    "trained_model_list=[]\n",
    "model_list=[]\n",
    "r2_list=[]\n",
    "\n",
    "for i in range(len(list(models))):\n",
    "    model=list(models.values())[i]\n",
    "    model.fit(X_train,y_train)\n",
    "\n",
    "    #Make Predictions\n",
    "    y_pred=model.predict(X_test)\n",
    "\n",
    "    acs,cms,crp=evaluate_model(y_test,y_pred)\n",
    "\n",
    "    print(list(models.keys())[i])\n",
    "    model_list.append(list(models.keys())[i])\n",
    "\n",
    "    print('Model Training Performance')\n",
    "    print(\"accuracy score:\",acs)\n",
    "    print(\"confusion matrix:\",cms)\n",
    "    print(\"classification\",crp)\n",
    "\n",
    "    r2_list.append(acs)\n",
    "    \n",
    "    print('='*35)\n",
    "    print('\\n')\n"
   ]
  }
 ],
 "metadata": {
  "kernelspec": {
   "display_name": "Python 3 (ipykernel)",
   "language": "python",
   "name": "python3"
  },
  "language_info": {
   "codemirror_mode": {
    "name": "ipython",
    "version": 3
   },
   "file_extension": ".py",
   "mimetype": "text/x-python",
   "name": "python",
   "nbconvert_exporter": "python",
   "pygments_lexer": "ipython3",
   "version": "3.11.9"
  }
 },
 "nbformat": 4,
 "nbformat_minor": 4
}
